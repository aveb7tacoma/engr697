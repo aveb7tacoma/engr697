{
 "cells": [],
 "metadata": {
  "kernelspec": {
   "display_name": "Python (env697 WSL)",
   "language": "python",
   "name": "env697"
  }
 },
 "nbformat": 4,
 "nbformat_minor": 5
}
